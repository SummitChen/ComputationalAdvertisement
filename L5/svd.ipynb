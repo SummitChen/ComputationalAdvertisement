{
  "nbformat": 4,
  "nbformat_minor": 0,
  "metadata": {
    "colab": {
      "name": "svd.ipynb",
      "provenance": [],
      "collapsed_sections": [],
      "toc_visible": true,
      "mount_file_id": "1Yhttz3DUMyAKgi2sSsMlfKjHE4nPmwy9",
      "authorship_tag": "ABX9TyNAD82Gf0BgUAAaeARfmR1m",
      "include_colab_link": true
    },
    "kernelspec": {
      "name": "python3",
      "display_name": "Python 3"
    },
    "accelerator": "GPU"
  },
  "cells": [
    {
      "cell_type": "markdown",
      "metadata": {
        "id": "view-in-github",
        "colab_type": "text"
      },
      "source": [
        "<a href=\"https://colab.research.google.com/github/SummitChen/ComputationalAdvertisement/blob/master/L5/svd.ipynb\" target=\"_parent\"><img src=\"https://colab.research.google.com/assets/colab-badge.svg\" alt=\"Open In Colab\"/></a>"
      ]
    },
    {
      "cell_type": "code",
      "metadata": {
        "id": "QpNoGrt5zC4n",
        "colab_type": "code",
        "colab": {}
      },
      "source": [
        "from google.colab import drive\n",
        "import os"
      ],
      "execution_count": 0,
      "outputs": []
    },
    {
      "cell_type": "code",
      "metadata": {
        "id": "4rg5I8v3zgrV",
        "colab_type": "code",
        "colab": {}
      },
      "source": [
        "drive.mount('/content/drive', force_remount=True)\n",
        "os.chdir('/content/drive/My Drive/Colab Notebooks/BaiduML/Computational_AD/MovieLens/')"
      ],
      "execution_count": 0,
      "outputs": []
    },
    {
      "cell_type": "code",
      "metadata": {
        "id": "AQuYZMh85GAn",
        "colab_type": "code",
        "colab": {}
      },
      "source": [
        "!ls"
      ],
      "execution_count": 0,
      "outputs": []
    },
    {
      "cell_type": "code",
      "metadata": {
        "id": "QQyrY8bT0J4C",
        "colab_type": "code",
        "colab": {}
      },
      "source": [
        "!pip install surprise"
      ],
      "execution_count": 0,
      "outputs": []
    },
    {
      "cell_type": "code",
      "metadata": {
        "id": "C86mIHCS2MMt",
        "colab_type": "code",
        "colab": {}
      },
      "source": [
        "from surprise import SVD, SVDpp\n",
        "from surprise import Dataset\n",
        "from surprise.model_selection import cross_validate\n",
        "from surprise import Reader\n",
        "from surprise import accuracy\n",
        "from surprise.model_selection import KFold\n",
        "import pandas as pd\n",
        "import math\n",
        "import time"
      ],
      "execution_count": 0,
      "outputs": []
    },
    {
      "cell_type": "code",
      "metadata": {
        "id": "l-8f-Wsf2SBa",
        "colab_type": "code",
        "colab": {}
      },
      "source": [
        "time1=time.time()"
      ],
      "execution_count": 0,
      "outputs": []
    },
    {
      "cell_type": "code",
      "metadata": {
        "id": "4pOUX7tx4jv_",
        "colab_type": "code",
        "colab": {}
      },
      "source": [
        "# 数据读取\n",
        "reader = Reader(line_format='user item rating timestamp', sep=',', skip_lines=1)\n",
        "data = Dataset.load_from_file('ratings.csv', reader=reader)\n",
        "train_set = data.build_full_trainset()"
      ],
      "execution_count": 0,
      "outputs": []
    },
    {
      "cell_type": "markdown",
      "metadata": {
        "id": "Mb_jaGEqGDsl",
        "colab_type": "text"
      },
      "source": [
        "方法思想：分别在数据集上采用k折交叉验证的方式，训练和检验 FunkSVD, BiasSVD 和 SVD++ 三种SVD矩阵分解方法的预测准确率。然后选取其中平均RMSE结果最低的模型。最后将整个数据集当做训练集来重新训练表现最好的模型，并进行预测。"
      ]
    },
    {
      "cell_type": "code",
      "metadata": {
        "id": "Ykwd9CB54pjK",
        "colab_type": "code",
        "colab": {}
      },
      "source": [
        "# 使用funkSVD, BiasSVD 和 SVD++\n",
        "# algo = SVD(biased=False)\n",
        "algos = [SVD(biased=False), SVD(biased=True), SVDpp()]\n",
        "algo_names = ['funkSVD', 'BiasSVD', 'SVD++']"
      ],
      "execution_count": 0,
      "outputs": []
    },
    {
      "cell_type": "code",
      "metadata": {
        "id": "JTz_t-XtlfVr",
        "colab_type": "code",
        "colab": {}
      },
      "source": [
        "def search_model(algos, algo_names, k):\n",
        "  assert(k>2)\n",
        "  best_score = 1e10\n",
        "  best_algo = None\n",
        "  best_name = None\n",
        "  for algo, algo_name in zip(algos, algo_names):\n",
        "    # 定义K折交叉验证迭代器\n",
        "    kf = KFold(n_splits=k)\n",
        "    score = 0.0\n",
        "    for trainset, testset in kf.split(data):\n",
        "      # 训练并预测\n",
        "      algo.fit(trainset)\n",
        "      predictions = algo.test(testset)\n",
        "      # 计算RMSE\n",
        "      score += accuracy.rmse(predictions, verbose=True)\n",
        "    if best_score > score:\n",
        "      best_score = score\n",
        "      best_algo = algo\n",
        "      best_name = algo_name\n",
        "  return best_algo, best_name, best_score\n",
        "      "
      ],
      "execution_count": 0,
      "outputs": []
    },
    {
      "cell_type": "code",
      "metadata": {
        "id": "Jjp2sINU7SBG",
        "colab_type": "code",
        "colab": {}
      },
      "source": [
        "best_algo, best_name, best_score = search_model(algos, algo_names, 3)\n",
        "print('The best algorithm is {} with average k_fold rmse {}'.format(best_name, best_score))\n",
        "# 在整个训练集上重新训练模型\n",
        "best_algo.fit(train_set)"
      ],
      "execution_count": 0,
      "outputs": []
    },
    {
      "cell_type": "code",
      "metadata": {
        "id": "b55foYC8Er1L",
        "colab_type": "code",
        "colab": {}
      },
      "source": [
        "uid = str(196)\n",
        "iid = str(302)\n",
        "# 输出uid对iid的预测结果\n",
        "pred = best_algo.predict(uid, iid, r_ui=4, verbose=True)\n",
        "time2=time.time()\n",
        "print(time2-time1)"
      ],
      "execution_count": 0,
      "outputs": []
    },
    {
      "cell_type": "code",
      "metadata": {
        "id": "MpLOrpTl7X87",
        "colab_type": "code",
        "colab": {}
      },
      "source": [
        ""
      ],
      "execution_count": 0,
      "outputs": []
    }
  ]
}