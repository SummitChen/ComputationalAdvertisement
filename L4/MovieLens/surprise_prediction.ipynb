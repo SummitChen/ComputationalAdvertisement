{
 "cells": [
  {
   "cell_type": "code",
   "execution_count": 8,
   "metadata": {},
   "outputs": [],
   "source": [
    "from surprise import SVDpp\n",
    "from surprise import SVD\n",
    "from surprise import Dataset\n",
    "from surprise import Reader\n",
    "from surprise import BaselineOnly, KNNBasic, NormalPredictor\n",
    "from surprise import accuracy\n",
    "from surprise.model_selection import KFold, cross_validate\n",
    "import pandas as pd"
   ]
  },
  {
   "cell_type": "code",
   "execution_count": 9,
   "metadata": {},
   "outputs": [],
   "source": [
    "# 数据读取\n",
    "reader = Reader(line_format='user item rating timestamp', sep=',', skip_lines=1)\n",
    "data = Dataset.load_from_file('./ratings.csv', reader=reader)\n",
    "train_set = data.build_full_trainset()"
   ]
  },
  {
   "cell_type": "code",
   "execution_count": 10,
   "metadata": {},
   "outputs": [],
   "source": [
    "# 使用funkSVD, BiasSVD 和 SVD++\n",
    "algos = [SVD(biased=False), SVD(biased=True), SVDpp()]\n",
    "algo_names = ['funkSVD', 'BiasSVD', 'SVD++']"
   ]
  },
  {
   "cell_type": "code",
   "execution_count": 11,
   "metadata": {},
   "outputs": [],
   "source": [
    "def search_model(algos, algo_names, k):\n",
    "    assert(k>2)\n",
    "    best_score = 1e10\n",
    "    best_algo = None\n",
    "    best_name = None\n",
    "    for algo, algo_name in zip(algos, algo_names):\n",
    "        print('training model {}'.format(algo_name))\n",
    "        # 定义K折交叉验证迭代器\n",
    "        kf = KFold(n_splits=k)\n",
    "        score = 0.0\n",
    "        for trainset, testset in kf.split(data):\n",
    "            # 训练并预测\n",
    "            algo.fit(trainset)\n",
    "            predictions = algo.test(testset)\n",
    "            # 计算RMSE\n",
    "            score += accuracy.rmse(predictions, verbose=True)\n",
    "            if best_score > score:\n",
    "                best_score = score\n",
    "                best_algo = algo\n",
    "                best_name = algo_name\n",
    "    return best_algo, best_name, best_score"
   ]
  },
  {
   "cell_type": "code",
   "execution_count": null,
   "metadata": {},
   "outputs": [
    {
     "name": "stdout",
     "output_type": "stream",
     "text": [
      "training model funkSVD\n",
      "RMSE: 0.8508\n",
      "RMSE: 0.8536\n",
      "RMSE: 0.8520\n",
      "RMSE: 0.8509\n",
      "RMSE: 0.8534\n",
      "RMSE: 0.8531\n",
      "training model BiasSVD\n",
      "RMSE: 0.8345\n",
      "RMSE: 0.8280\n",
      "RMSE: 0.8318\n",
      "RMSE: 0.8308\n",
      "RMSE: 0.8325\n",
      "RMSE: 0.8275\n",
      "training model SVD++\n"
     ]
    }
   ],
   "source": [
    "best_algo, best_name, best_score = search_model(algos, algo_names, 6)\n",
    "print('The best algorithm is {} with average k_fold rmse {}'.format(best_name, best_score))\n",
    "\n",
    "# 在整个训练集上重新训练模型\n",
    "best_algo.train(train_set)\n",
    "\n",
    "uid = str(196)\n",
    "iid = str(302)\n",
    "# 输出uid对iid的预测结果\n",
    "pred = algo.predict(uid, iid, r_ui=4, verbose=True)\n",
    "time2=time.time()\n",
    "print(time2-time1)"
   ]
  },
  {
   "cell_type": "code",
   "execution_count": null,
   "metadata": {},
   "outputs": [],
   "source": []
  }
 ],
 "metadata": {
  "kernelspec": {
   "display_name": "tensorflow",
   "language": "python",
   "name": "tensorflow"
  },
  "language_info": {
   "codemirror_mode": {
    "name": "ipython",
    "version": 3
   },
   "file_extension": ".py",
   "mimetype": "text/x-python",
   "name": "python",
   "nbconvert_exporter": "python",
   "pygments_lexer": "ipython3",
   "version": "3.7.6"
  }
 },
 "nbformat": 4,
 "nbformat_minor": 4
}
