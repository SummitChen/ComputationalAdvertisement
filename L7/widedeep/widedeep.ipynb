{
 "cells": [
  {
   "cell_type": "code",
   "execution_count": 1,
   "metadata": {},
   "outputs": [],
   "source": [
    "import pandas as pd\n",
    "import numpy as np\n",
    "import warnings\n",
    "warnings.filterwarnings(\"ignore\")"
   ]
  },
  {
   "cell_type": "code",
   "execution_count": 2,
   "metadata": {},
   "outputs": [],
   "source": [
    "ratings = pd.read_csv('data/ratings.dat', sep = '::', header = None)\n",
    "movies = pd.read_csv('data/movies.dat', sep = '::', header = None)\n",
    "users = pd.read_csv('data/users.dat', sep = '::', header = None)\n",
    "ratings.columns = ['userId', 'movieId', 'rating', 'timestamp']\n",
    "movies.columns = ['movieId', 'name', 'genres']\n",
    "users.columns = ['userId', 'sex', 'age', 'occupation', 'zipcode']\n",
    "movie_ratings = pd.merge(ratings, movies, on = 'movieId')\n",
    "movie_ratings = pd.merge(movie_ratings, users, on = 'userId')"
   ]
  },
  {
   "cell_type": "code",
   "execution_count": 3,
   "metadata": {},
   "outputs": [
    {
     "data": {
      "text/html": [
       "<div>\n",
       "<style scoped>\n",
       "    .dataframe tbody tr th:only-of-type {\n",
       "        vertical-align: middle;\n",
       "    }\n",
       "\n",
       "    .dataframe tbody tr th {\n",
       "        vertical-align: top;\n",
       "    }\n",
       "\n",
       "    .dataframe thead th {\n",
       "        text-align: right;\n",
       "    }\n",
       "</style>\n",
       "<table border=\"1\" class=\"dataframe\">\n",
       "  <thead>\n",
       "    <tr style=\"text-align: right;\">\n",
       "      <th></th>\n",
       "      <th>userId</th>\n",
       "      <th>movieId</th>\n",
       "      <th>rating</th>\n",
       "      <th>timestamp</th>\n",
       "      <th>name</th>\n",
       "      <th>genres</th>\n",
       "      <th>sex</th>\n",
       "      <th>age</th>\n",
       "      <th>occupation</th>\n",
       "      <th>zipcode</th>\n",
       "    </tr>\n",
       "  </thead>\n",
       "  <tbody>\n",
       "    <tr>\n",
       "      <th>0</th>\n",
       "      <td>1</td>\n",
       "      <td>1193</td>\n",
       "      <td>5</td>\n",
       "      <td>978300760</td>\n",
       "      <td>One Flew Over the Cuckoo's Nest (1975)</td>\n",
       "      <td>Drama</td>\n",
       "      <td>F</td>\n",
       "      <td>1</td>\n",
       "      <td>10</td>\n",
       "      <td>48067</td>\n",
       "    </tr>\n",
       "    <tr>\n",
       "      <th>1</th>\n",
       "      <td>1</td>\n",
       "      <td>661</td>\n",
       "      <td>3</td>\n",
       "      <td>978302109</td>\n",
       "      <td>James and the Giant Peach (1996)</td>\n",
       "      <td>Animation|Children's|Musical</td>\n",
       "      <td>F</td>\n",
       "      <td>1</td>\n",
       "      <td>10</td>\n",
       "      <td>48067</td>\n",
       "    </tr>\n",
       "    <tr>\n",
       "      <th>2</th>\n",
       "      <td>1</td>\n",
       "      <td>914</td>\n",
       "      <td>3</td>\n",
       "      <td>978301968</td>\n",
       "      <td>My Fair Lady (1964)</td>\n",
       "      <td>Musical|Romance</td>\n",
       "      <td>F</td>\n",
       "      <td>1</td>\n",
       "      <td>10</td>\n",
       "      <td>48067</td>\n",
       "    </tr>\n",
       "    <tr>\n",
       "      <th>3</th>\n",
       "      <td>1</td>\n",
       "      <td>3408</td>\n",
       "      <td>4</td>\n",
       "      <td>978300275</td>\n",
       "      <td>Erin Brockovich (2000)</td>\n",
       "      <td>Drama</td>\n",
       "      <td>F</td>\n",
       "      <td>1</td>\n",
       "      <td>10</td>\n",
       "      <td>48067</td>\n",
       "    </tr>\n",
       "    <tr>\n",
       "      <th>4</th>\n",
       "      <td>1</td>\n",
       "      <td>2355</td>\n",
       "      <td>5</td>\n",
       "      <td>978824291</td>\n",
       "      <td>Bug's Life, A (1998)</td>\n",
       "      <td>Animation|Children's|Comedy</td>\n",
       "      <td>F</td>\n",
       "      <td>1</td>\n",
       "      <td>10</td>\n",
       "      <td>48067</td>\n",
       "    </tr>\n",
       "  </tbody>\n",
       "</table>\n",
       "</div>"
      ],
      "text/plain": [
       "   userId  movieId  rating  timestamp                                    name  \\\n",
       "0       1     1193       5  978300760  One Flew Over the Cuckoo's Nest (1975)   \n",
       "1       1      661       3  978302109        James and the Giant Peach (1996)   \n",
       "2       1      914       3  978301968                     My Fair Lady (1964)   \n",
       "3       1     3408       4  978300275                  Erin Brockovich (2000)   \n",
       "4       1     2355       5  978824291                    Bug's Life, A (1998)   \n",
       "\n",
       "                         genres sex  age  occupation zipcode  \n",
       "0                         Drama   F    1          10   48067  \n",
       "1  Animation|Children's|Musical   F    1          10   48067  \n",
       "2               Musical|Romance   F    1          10   48067  \n",
       "3                         Drama   F    1          10   48067  \n",
       "4   Animation|Children's|Comedy   F    1          10   48067  "
      ]
     },
     "execution_count": 3,
     "metadata": {},
     "output_type": "execute_result"
    }
   ],
   "source": [
    "movie_ratings.head()"
   ]
  },
  {
   "cell_type": "code",
   "execution_count": 4,
   "metadata": {},
   "outputs": [
    {
     "data": {
      "text/plain": [
       "(1000209, 10)"
      ]
     },
     "execution_count": 4,
     "metadata": {},
     "output_type": "execute_result"
    }
   ],
   "source": [
    "movie_ratings.shape"
   ]
  },
  {
   "cell_type": "code",
   "execution_count": 19,
   "metadata": {},
   "outputs": [],
   "source": [
    "from sklearn.metrics import mean_squared_error\n",
    "from sklearn.model_selection import train_test_split\n",
    "from sklearn.preprocessing import LabelEncoder\n",
    "from tensorflow.python.keras.preprocessing.sequence import pad_sequences\n",
    "from tensorflow.keras.callbacks import EarlyStopping\n",
    "\n",
    "from deepctr.models import WDL\n",
    "from deepctr.inputs import SparseFeat, DenseFeat, VarLenSparseFeat, get_feature_names"
   ]
  },
  {
   "cell_type": "code",
   "execution_count": 20,
   "metadata": {},
   "outputs": [],
   "source": [
    "def split(x):\n",
    "    key_ans = x.split('|')\n",
    "    for key in key_ans:\n",
    "        if key not in key2index:\n",
    "            key2index[key] = len(key2index) + 1\n",
    "    return list(map(lambda x: key2index[x], key_ans))"
   ]
  },
  {
   "cell_type": "code",
   "execution_count": 21,
   "metadata": {},
   "outputs": [],
   "source": [
    "sparse_features = ['movieId', 'userId','occupation', 'zipcode']\n",
    "dense_features = ['timestamp', 'age']\n",
    "\n",
    "movie_ratings[sparse_features] = movie_ratings[sparse_features].fillna('-1',)\n",
    "movie_ratings[dense_features] = movie_ratings[dense_features].fillna(0,)\n",
    "\n",
    "target = ['rating']"
   ]
  },
  {
   "cell_type": "code",
   "execution_count": 22,
   "metadata": {},
   "outputs": [],
   "source": [
    "# sampling train and test\n",
    "train, test = train_test_split(movie_ratings, test_size = 0.2)"
   ]
  },
  {
   "cell_type": "code",
   "execution_count": 23,
   "metadata": {},
   "outputs": [],
   "source": [
    "# concat train and test for preprocessing\n",
    "data = pd.concat([train, test])"
   ]
  },
  {
   "cell_type": "code",
   "execution_count": 24,
   "metadata": {},
   "outputs": [
    {
     "data": {
      "text/html": [
       "<div>\n",
       "<style scoped>\n",
       "    .dataframe tbody tr th:only-of-type {\n",
       "        vertical-align: middle;\n",
       "    }\n",
       "\n",
       "    .dataframe tbody tr th {\n",
       "        vertical-align: top;\n",
       "    }\n",
       "\n",
       "    .dataframe thead th {\n",
       "        text-align: right;\n",
       "    }\n",
       "</style>\n",
       "<table border=\"1\" class=\"dataframe\">\n",
       "  <thead>\n",
       "    <tr style=\"text-align: right;\">\n",
       "      <th></th>\n",
       "      <th>userId</th>\n",
       "      <th>movieId</th>\n",
       "      <th>rating</th>\n",
       "      <th>timestamp</th>\n",
       "      <th>name</th>\n",
       "      <th>genres</th>\n",
       "      <th>sex</th>\n",
       "      <th>age</th>\n",
       "      <th>occupation</th>\n",
       "      <th>zipcode</th>\n",
       "    </tr>\n",
       "  </thead>\n",
       "  <tbody>\n",
       "    <tr>\n",
       "      <th>461798</th>\n",
       "      <td>629</td>\n",
       "      <td>3879</td>\n",
       "      <td>3</td>\n",
       "      <td>975783216</td>\n",
       "      <td>Art of War, The (2000)</td>\n",
       "      <td>Action</td>\n",
       "      <td>F</td>\n",
       "      <td>1</td>\n",
       "      <td>10</td>\n",
       "      <td>48154</td>\n",
       "    </tr>\n",
       "    <tr>\n",
       "      <th>912724</th>\n",
       "      <td>229</td>\n",
       "      <td>367</td>\n",
       "      <td>2</td>\n",
       "      <td>976823202</td>\n",
       "      <td>Mask, The (1994)</td>\n",
       "      <td>Comedy|Crime|Fantasy</td>\n",
       "      <td>M</td>\n",
       "      <td>18</td>\n",
       "      <td>10</td>\n",
       "      <td>04576</td>\n",
       "    </tr>\n",
       "    <tr>\n",
       "      <th>344927</th>\n",
       "      <td>4510</td>\n",
       "      <td>3591</td>\n",
       "      <td>2</td>\n",
       "      <td>964989467</td>\n",
       "      <td>Mr. Mom (1983)</td>\n",
       "      <td>Comedy|Drama</td>\n",
       "      <td>M</td>\n",
       "      <td>45</td>\n",
       "      <td>7</td>\n",
       "      <td>92503</td>\n",
       "    </tr>\n",
       "    <tr>\n",
       "      <th>406474</th>\n",
       "      <td>5433</td>\n",
       "      <td>2282</td>\n",
       "      <td>4</td>\n",
       "      <td>960049423</td>\n",
       "      <td>Pecker (1998)</td>\n",
       "      <td>Comedy|Drama</td>\n",
       "      <td>F</td>\n",
       "      <td>35</td>\n",
       "      <td>17</td>\n",
       "      <td>45014</td>\n",
       "    </tr>\n",
       "    <tr>\n",
       "      <th>700641</th>\n",
       "      <td>93</td>\n",
       "      <td>3877</td>\n",
       "      <td>1</td>\n",
       "      <td>977630767</td>\n",
       "      <td>Supergirl (1984)</td>\n",
       "      <td>Action|Adventure|Fantasy</td>\n",
       "      <td>M</td>\n",
       "      <td>25</td>\n",
       "      <td>17</td>\n",
       "      <td>95825</td>\n",
       "    </tr>\n",
       "  </tbody>\n",
       "</table>\n",
       "</div>"
      ],
      "text/plain": [
       "        userId  movieId  rating  timestamp                    name  \\\n",
       "461798     629     3879       3  975783216  Art of War, The (2000)   \n",
       "912724     229      367       2  976823202        Mask, The (1994)   \n",
       "344927    4510     3591       2  964989467          Mr. Mom (1983)   \n",
       "406474    5433     2282       4  960049423           Pecker (1998)   \n",
       "700641      93     3877       1  977630767        Supergirl (1984)   \n",
       "\n",
       "                          genres sex  age  occupation zipcode  \n",
       "461798                    Action   F    1          10   48154  \n",
       "912724      Comedy|Crime|Fantasy   M   18          10   04576  \n",
       "344927              Comedy|Drama   M   45           7   92503  \n",
       "406474              Comedy|Drama   F   35          17   45014  \n",
       "700641  Action|Adventure|Fantasy   M   25          17   95825  "
      ]
     },
     "execution_count": 24,
     "metadata": {},
     "output_type": "execute_result"
    }
   ],
   "source": [
    "data.head()"
   ]
  },
  {
   "cell_type": "code",
   "execution_count": 28,
   "metadata": {},
   "outputs": [],
   "source": [
    "from sklearn.preprocessing import MinMaxScaler\n",
    "\n",
    "# lable encoder sparse data\n",
    "for feat in sparse_features:\n",
    "    lbe = LabelEncoder()\n",
    "    data[feat] = lbe.fit_transform(data[feat])\n",
    "\n",
    "scaler = MinMaxScaler()\n",
    "data[dense_features] = scaler.fit_transform(data[dense_features])"
   ]
  },
  {
   "cell_type": "code",
   "execution_count": 29,
   "metadata": {},
   "outputs": [
    {
     "data": {
      "text/html": [
       "<div>\n",
       "<style scoped>\n",
       "    .dataframe tbody tr th:only-of-type {\n",
       "        vertical-align: middle;\n",
       "    }\n",
       "\n",
       "    .dataframe tbody tr th {\n",
       "        vertical-align: top;\n",
       "    }\n",
       "\n",
       "    .dataframe thead th {\n",
       "        text-align: right;\n",
       "    }\n",
       "</style>\n",
       "<table border=\"1\" class=\"dataframe\">\n",
       "  <thead>\n",
       "    <tr style=\"text-align: right;\">\n",
       "      <th></th>\n",
       "      <th>userId</th>\n",
       "      <th>movieId</th>\n",
       "      <th>rating</th>\n",
       "      <th>timestamp</th>\n",
       "      <th>name</th>\n",
       "      <th>genres</th>\n",
       "      <th>sex</th>\n",
       "      <th>age</th>\n",
       "      <th>occupation</th>\n",
       "      <th>zipcode</th>\n",
       "    </tr>\n",
       "  </thead>\n",
       "  <tbody>\n",
       "    <tr>\n",
       "      <th>461798</th>\n",
       "      <td>628</td>\n",
       "      <td>3633</td>\n",
       "      <td>3</td>\n",
       "      <td>0.212581</td>\n",
       "      <td>Art of War, The (2000)</td>\n",
       "      <td>Action</td>\n",
       "      <td>F</td>\n",
       "      <td>0.000000</td>\n",
       "      <td>10</td>\n",
       "      <td>1615</td>\n",
       "    </tr>\n",
       "    <tr>\n",
       "      <th>912724</th>\n",
       "      <td>228</td>\n",
       "      <td>357</td>\n",
       "      <td>2</td>\n",
       "      <td>0.224168</td>\n",
       "      <td>Mask, The (1994)</td>\n",
       "      <td>Comedy|Crime|Fantasy</td>\n",
       "      <td>M</td>\n",
       "      <td>0.309091</td>\n",
       "      <td>10</td>\n",
       "      <td>242</td>\n",
       "    </tr>\n",
       "    <tr>\n",
       "      <th>344927</th>\n",
       "      <td>4509</td>\n",
       "      <td>3351</td>\n",
       "      <td>2</td>\n",
       "      <td>0.092317</td>\n",
       "      <td>Mr. Mom (1983)</td>\n",
       "      <td>Comedy|Drama</td>\n",
       "      <td>M</td>\n",
       "      <td>0.800000</td>\n",
       "      <td>7</td>\n",
       "      <td>2946</td>\n",
       "    </tr>\n",
       "    <tr>\n",
       "      <th>406474</th>\n",
       "      <td>5432</td>\n",
       "      <td>2090</td>\n",
       "      <td>4</td>\n",
       "      <td>0.037275</td>\n",
       "      <td>Pecker (1998)</td>\n",
       "      <td>Comedy|Drama</td>\n",
       "      <td>F</td>\n",
       "      <td>0.618182</td>\n",
       "      <td>17</td>\n",
       "      <td>1475</td>\n",
       "    </tr>\n",
       "    <tr>\n",
       "      <th>700641</th>\n",
       "      <td>92</td>\n",
       "      <td>3631</td>\n",
       "      <td>1</td>\n",
       "      <td>0.233166</td>\n",
       "      <td>Supergirl (1984)</td>\n",
       "      <td>Action|Adventure|Fantasy</td>\n",
       "      <td>M</td>\n",
       "      <td>0.436364</td>\n",
       "      <td>17</td>\n",
       "      <td>3227</td>\n",
       "    </tr>\n",
       "  </tbody>\n",
       "</table>\n",
       "</div>"
      ],
      "text/plain": [
       "        userId  movieId  rating  timestamp                    name  \\\n",
       "461798     628     3633       3   0.212581  Art of War, The (2000)   \n",
       "912724     228      357       2   0.224168        Mask, The (1994)   \n",
       "344927    4509     3351       2   0.092317          Mr. Mom (1983)   \n",
       "406474    5432     2090       4   0.037275           Pecker (1998)   \n",
       "700641      92     3631       1   0.233166        Supergirl (1984)   \n",
       "\n",
       "                          genres sex       age  occupation  zipcode  \n",
       "461798                    Action   F  0.000000          10     1615  \n",
       "912724      Comedy|Crime|Fantasy   M  0.309091          10      242  \n",
       "344927              Comedy|Drama   M  0.800000           7     2946  \n",
       "406474              Comedy|Drama   F  0.618182          17     1475  \n",
       "700641  Action|Adventure|Fantasy   M  0.436364          17     3227  "
      ]
     },
     "execution_count": 29,
     "metadata": {},
     "output_type": "execute_result"
    }
   ],
   "source": [
    "data.head()"
   ]
  },
  {
   "cell_type": "code",
   "execution_count": 30,
   "metadata": {},
   "outputs": [],
   "source": [
    "# preprocess the sequence data\n",
    "key2index = {}\n",
    "genres_list = list(map(split, data['genres'].values))\n",
    "# print(genres_list)\n",
    "genres_length = np.array(list(map(len, genres_list)))\n",
    "max_len = max(genres_length)\n",
    "genres_list = pad_sequences(genres_list, maxlen=max_len, padding='post')"
   ]
  },
  {
   "cell_type": "code",
   "execution_count": 31,
   "metadata": {},
   "outputs": [],
   "source": [
    "fixlen_feature_columns = [SparseFeat(feat, data[feat].nunique(), embedding_dim = 4)\n",
    "                         for feat in sparse_features] + [DenseFeat(feat, 1, ) for feat in dense_features]\n",
    "\n",
    "varlen_feature_columns = [VarLenSparseFeat(SparseFeat('genres', vocabulary_size = len(\n",
    "    key2index) + 1, embedding_dim = 4), maxlen=max_len, combiner='mean',\n",
    "                                          weight_name = None)]\n",
    "\n",
    "linear_feature_columns = fixlen_feature_columns + varlen_feature_columns\n",
    "dnn_feature_columns = fixlen_feature_columns + varlen_feature_columns\n",
    "\n",
    "# print(\"Type of linear_feature_columns is {0} and the shape of linear_feature_columns is {1}\".format(type(linear_feature_columns), len(linear_feature_columns)))\n",
    "feature_names = get_feature_names(linear_feature_columns + dnn_feature_columns)\n",
    "# print(feature_names)"
   ]
  },
  {
   "cell_type": "code",
   "execution_count": 32,
   "metadata": {},
   "outputs": [],
   "source": [
    "train = data[:train.shape[0]]\n",
    "test = data[train.shape[0]:]"
   ]
  },
  {
   "cell_type": "code",
   "execution_count": 33,
   "metadata": {},
   "outputs": [],
   "source": [
    "train_genres_list = list(map(split, train['genres'].values))\n",
    "train_genres_list = pad_sequences(train_genres_list, maxlen=max_len, padding='post')\n",
    "test_genres_list = list(map(split, test['genres'].values))\n",
    "test_genres_list = pad_sequences(test_genres_list, maxlen=max_len, padding='post')"
   ]
  },
  {
   "cell_type": "code",
   "execution_count": 34,
   "metadata": {},
   "outputs": [],
   "source": [
    "train_model_input = {name: train[name].values for name in feature_names}\n",
    "train_model_input[\"genres\"] = train_genres_list\n",
    "test_model_input = {name: test[name].values for name in feature_names}\n",
    "test_model_input[\"genres\"] = test_genres_list"
   ]
  },
  {
   "cell_type": "code",
   "execution_count": 42,
   "metadata": {},
   "outputs": [
    {
     "name": "stdout",
     "output_type": "stream",
     "text": [
      "Train on 640133 samples, validate on 160034 samples\n",
      "Epoch 1/30\n",
      "640133/640133 [==============================] - 16s 25us/sample - loss: 0.9363 - mse: 0.9356 - val_loss: 0.8267 - val_mse: 0.8254\n",
      "Epoch 2/30\n",
      "640133/640133 [==============================] - 14s 22us/sample - loss: 0.8101 - mse: 0.8082 - val_loss: 0.8081 - val_mse: 0.8056\n",
      "Epoch 3/30\n",
      "640133/640133 [==============================] - 14s 22us/sample - loss: 0.7805 - mse: 0.7774 - val_loss: 0.7825 - val_mse: 0.7787\n",
      "Epoch 4/30\n",
      "640133/640133 [==============================] - 14s 23us/sample - loss: 0.7563 - mse: 0.7519 - val_loss: 0.7739 - val_mse: 0.7689\n",
      "Epoch 5/30\n",
      "640133/640133 [==============================] - 14s 23us/sample - loss: 0.7393 - mse: 0.7337 - val_loss: 0.7684 - val_mse: 0.7623\n",
      "Epoch 6/30\n",
      "640133/640133 [==============================] - 15s 23us/sample - loss: 0.7276 - mse: 0.7208 - val_loss: 0.7656 - val_mse: 0.7583\n",
      "Epoch 7/30\n",
      "640133/640133 [==============================] - 14s 23us/sample - loss: 0.7180 - mse: 0.7102 - val_loss: 0.7636 - val_mse: 0.7553\n",
      "Epoch 8/30\n",
      "640133/640133 [==============================] - 14s 23us/sample - loss: 0.7102 - mse: 0.7014 - val_loss: 0.7676 - val_mse: 0.7583\n"
     ]
    }
   ],
   "source": [
    "model = WDL(linear_feature_columns, dnn_feature_columns, task='regression')\n",
    "model.compile(\"adam\", \"mse\", metrics=['mse'])\n",
    "es = EarlyStopping(monitor='val_mse', mode='min')\n",
    "history = model.fit(train_model_input, train[target].values, callbacks= [es], batch_size=256, epochs=30, verbose=True, validation_split=0.2)"
   ]
  },
  {
   "cell_type": "code",
   "execution_count": 43,
   "metadata": {},
   "outputs": [],
   "source": [
    "pred_ans = model.predict(test_model_input, batch_size = 256)"
   ]
  },
  {
   "cell_type": "code",
   "execution_count": 44,
   "metadata": {},
   "outputs": [
    {
     "name": "stdout",
     "output_type": "stream",
     "text": [
      "test RMSE 0.8724104538575864\n"
     ]
    }
   ],
   "source": [
    "mse = round(mean_squared_error(test[target].values, pred_ans), 4)\n",
    "rmse = mse ** 0.5\n",
    "print(\"test RMSE\", rmse)"
   ]
  },
  {
   "cell_type": "code",
   "execution_count": 45,
   "metadata": {},
   "outputs": [
    {
     "data": {
      "image/png": "[encoded data removed]",
      "text/plain": [
       "<Figure size 432x288 with 1 Axes>"
      ]
     },
     "metadata": {
      "needs_background": "light"
     },
     "output_type": "display_data"
    },
    {
     "data": {
      "image/png": "[encoded data removed]",
      "text/plain": [
       "<Figure size 432x288 with 1 Axes>"
      ]
     },
     "metadata": {
      "needs_background": "light"
     },
     "output_type": "display_data"
    }
   ],
   "source": [
    "import matplotlib.pyplot as plt\n",
    "\n",
    "# summarize history for loss\n",
    "plt.plot(history.history['loss'])\n",
    "plt.plot(history.history['val_loss'])\n",
    "plt.title('model loss')\n",
    "plt.ylabel('loss')\n",
    "plt.xlabel('epoch')\n",
    "plt.legend(['train', 'test'], loc='upper left')\n",
    "plt.show()\n",
    "# summarize history for loss\n",
    "plt.plot(history.history['mse'])\n",
    "plt.plot(history.history['val_mse'])\n",
    "plt.title('model mse')\n",
    "plt.ylabel('mse')\n",
    "plt.xlabel('epoch')\n",
    "plt.legend(['train', 'test'], loc='upper left')\n",
    "plt.show()"
   ]
  },
  {
   "cell_type": "code",
   "execution_count": null,
   "metadata": {},
   "outputs": [],
   "source": []
  }
 ],
 "metadata": {
  "kernelspec": {
   "display_name": "Python 3.7.6 64-bit ('tf': conda)",
   "language": "python",
   "name": "python37664bittfconda946bd5c5de684c5d81ef2ce52df4450d"
  },
  "language_info": {
   "codemirror_mode": {
    "name": "ipython",
    "version": 3
   },
   "file_extension": ".py",
   "mimetype": "text/x-python",
   "name": "python",
   "nbconvert_exporter": "python",
   "pygments_lexer": "ipython3",
   "version": "3.7.6"
  }
 },
 "nbformat": 4,
 "nbformat_minor": 2
}
