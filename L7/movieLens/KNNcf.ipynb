{
 "cells": [
  {
   "cell_type": "code",
   "execution_count": 1,
   "metadata": {},
   "outputs": [],
   "source": [
    "from surprise import KNNBasic, KNNWithMeans, KNNWithZScore, KNNBaseline\n",
    "from surprise import Dataset, Reader\n",
    "from surprise import accuracy\n",
    "from surprise.model_selection import KFold"
   ]
  },
  {
   "cell_type": "code",
   "execution_count": 2,
   "metadata": {},
   "outputs": [],
   "source": [
    "# read data\n",
    "reader = Reader(line_format='user item rating timestamp', sep='::', skip_lines=0)\n",
    "data = Dataset.load_from_file('data/ratings.dat', reader = reader)\n",
    "train_set = data.build_full_trainset()"
   ]
  },
  {
   "cell_type": "code",
   "execution_count": 7,
   "metadata": {},
   "outputs": [],
   "source": [
    "# initialize models\n",
    "models = {}\n",
    "models['KNNBasic'] = KNNBasic(k=50, min_k = 3, sim_options={'user_based': True}, verbose=True)\n",
    "models['KNNWithMeans'] = KNNWithMeans(k=50, min_k = 3, sim_options={'user_based': True}, verbose=True)\n",
    "models['KNNWithZScore'] = KNNWithZScore(k=50, min_k = 3, sim_options={'user_based': True}, verbose=True)\n",
    "models['KNNBaseline'] = KNNBaseline(k=50, min_k = 3, sim_options={'user_based': True}, verbose=True)"
   ]
  },
  {
   "cell_type": "code",
   "execution_count": 8,
   "metadata": {},
   "outputs": [],
   "source": [
    "# k fold\n",
    "kf = KFold(n_splits=3)\n",
    "best_model_rmse = ''\n",
    "best_model_mse = ''\n",
    "best_rmse = 1e10\n",
    "best_mse = 1e10"
   ]
  },
  {
   "cell_type": "code",
   "execution_count": 9,
   "metadata": {},
   "outputs": [
    {
     "name": "stdout",
     "output_type": "stream",
     "text": [
      "Computing the msd similarity matrix...\n",
      "Done computing similarity matrix.\n",
      "RMSE: 0.9285\n",
      "MSE: 0.8621\n",
      "Computing the msd similarity matrix...\n",
      "Done computing similarity matrix.\n",
      "RMSE: 0.9306\n",
      "MSE: 0.8661\n",
      "Computing the msd similarity matrix...\n",
      "Done computing similarity matrix.\n",
      "RMSE: 0.9294\n",
      "MSE: 0.8637\n",
      "Computing the msd similarity matrix...\n",
      "Done computing similarity matrix.\n",
      "RMSE: 0.9299\n",
      "MSE: 0.8648\n",
      "Computing the msd similarity matrix...\n",
      "Done computing similarity matrix.\n",
      "RMSE: 0.9309\n",
      "MSE: 0.8666\n",
      "Computing the msd similarity matrix...\n",
      "Done computing similarity matrix.\n",
      "RMSE: 0.9291\n",
      "MSE: 0.8631\n",
      "Computing the msd similarity matrix...\n",
      "Done computing similarity matrix.\n",
      "RMSE: 0.9311\n",
      "MSE: 0.8670\n",
      "Computing the msd similarity matrix...\n",
      "Done computing similarity matrix.\n",
      "RMSE: 0.9300\n",
      "MSE: 0.8649\n",
      "Computing the msd similarity matrix...\n",
      "Done computing similarity matrix.\n",
      "RMSE: 0.9300\n",
      "MSE: 0.8649\n",
      "Estimating biases using als...\n",
      "Computing the msd similarity matrix...\n",
      "Done computing similarity matrix.\n",
      "RMSE: 0.8966\n",
      "MSE: 0.8039\n",
      "Estimating biases using als...\n",
      "Computing the msd similarity matrix...\n",
      "Done computing similarity matrix.\n",
      "RMSE: 0.8975\n",
      "MSE: 0.8055\n",
      "Estimating biases using als...\n",
      "Computing the msd similarity matrix...\n",
      "Done computing similarity matrix.\n",
      "RMSE: 0.8984\n",
      "MSE: 0.8072\n"
     ]
    }
   ],
   "source": [
    "# search best\n",
    "for key in models:\n",
    "    avg_rmse = 0.0\n",
    "    avg_mse = 0.0\n",
    "    for trainset, testset in kf.split(data):\n",
    "        models[key].fit(trainset)\n",
    "        predictions = models[key].test(testset)\n",
    "        avg_rmse += accuracy.rmse(predictions, verbose = True)\n",
    "        avg_mse += accuracy.mse(predictions, verbose = True)\n",
    "    avg_rmse /= 3\n",
    "    avg_mse /= 3\n",
    "    if best_rmse > avg_rmse:\n",
    "        best_model_rmse = key\n",
    "        best_rmse = avg_rmse\n",
    "    if best_mse > avg_mse:\n",
    "        best_model_mse = key\n",
    "        best_mse = avg_mse"
   ]
  },
  {
   "cell_type": "code",
   "execution_count": 10,
   "metadata": {},
   "outputs": [
    {
     "name": "stdout",
     "output_type": "stream",
     "text": [
      "Best model in RMSE is KNNBaseline, with RMSE 0.8975108129944771\n",
      "Best model in MSE is KNNBaseline, with MSE 0.8055262275371557\n"
     ]
    }
   ],
   "source": [
    "print(\"Best model in RMSE is {0}, with RMSE {1}\".format(best_model_rmse, best_rmse))\n",
    "print(\"Best model in MSE is {0}, with MSE {1}\".format(best_model_mse, best_mse))"
   ]
  },
  {
   "cell_type": "code",
   "execution_count": null,
   "metadata": {},
   "outputs": [],
   "source": []
  }
 ],
 "metadata": {
  "kernelspec": {
   "display_name": "Python 3.7.6 64-bit ('tf': conda)",
   "language": "python",
   "name": "python37664bittfconda946bd5c5de684c5d81ef2ce52df4450d"
  },
  "language_info": {
   "codemirror_mode": {
    "name": "ipython",
    "version": 3
   },
   "file_extension": ".py",
   "mimetype": "text/x-python",
   "name": "python",
   "nbconvert_exporter": "python",
   "pygments_lexer": "ipython3",
   "version": "3.7.6"
  }
 },
 "nbformat": 4,
 "nbformat_minor": 2
}
