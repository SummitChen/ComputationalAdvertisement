{
 "cells": [
  {
   "cell_type": "code",
   "execution_count": 10,
   "metadata": {},
   "outputs": [],
   "source": [
    "import pandas as pd\n",
    "from sklearn.model_selection import train_test_split"
   ]
  },
  {
   "cell_type": "code",
   "execution_count": 11,
   "metadata": {},
   "outputs": [],
   "source": [
    "data = pd.read_csv('movielens_sample.txt')\n",
    "train, test = train_test_split(data, test_size=0.2)"
   ]
  },
  {
   "cell_type": "code",
   "execution_count": 12,
   "metadata": {},
   "outputs": [
    {
     "data": {
      "text/plain": [
       "<bound method DataFrame.info of      user_id  movie_id  rating  timestamp  \\\n",
       "0       3299       235       4  968035345   \n",
       "1       3630      3256       3  966536874   \n",
       "2        517       105       4  976203603   \n",
       "3        785      2115       3  975430389   \n",
       "4       5848       909       5  957782527   \n",
       "..       ...       ...     ...        ...   \n",
       "195     1427      3596       3  974840560   \n",
       "196     3868      1626       3  965855033   \n",
       "197      249      2369       3  976730191   \n",
       "198     5720       349       4  958503395   \n",
       "199      877      1485       3  975270899   \n",
       "\n",
       "                                           title                     genres  \\\n",
       "0                                 Ed Wood (1994)               Comedy|Drama   \n",
       "1                           Patriot Games (1992)            Action|Thriller   \n",
       "2          Bridges of Madison County, The (1995)              Drama|Romance   \n",
       "3    Indiana Jones and the Temple of Doom (1984)           Action|Adventure   \n",
       "4                          Apartment, The (1960)               Comedy|Drama   \n",
       "..                                           ...                        ...   \n",
       "195                               Screwed (2000)                     Comedy   \n",
       "196                       Fire Down Below (1997)      Action|Drama|Thriller   \n",
       "197             Desperately Seeking Susan (1985)             Comedy|Romance   \n",
       "198              Clear and Present Danger (1994)  Action|Adventure|Thriller   \n",
       "199                             Liar Liar (1997)                     Comedy   \n",
       "\n",
       "    gender  age  occupation    zip  \n",
       "0        F   25           4  19119  \n",
       "1        M   18           4  77005  \n",
       "2        F   25          14  55408  \n",
       "3        M   18          19  29307  \n",
       "4        M   50          20  20009  \n",
       "..     ...  ...         ...    ...  \n",
       "195      M   25          12  21401  \n",
       "196      M   18          12  73112  \n",
       "197      F   18          14  48126  \n",
       "198      M   25           0  60610  \n",
       "199      M   25           0  90631  \n",
       "\n",
       "[200 rows x 10 columns]>"
      ]
     },
     "execution_count": 12,
     "metadata": {},
     "output_type": "execute_result"
    }
   ],
   "source": [
    "data.info"
   ]
  },
  {
   "cell_type": "code",
   "execution_count": 13,
   "metadata": {},
   "outputs": [
    {
     "name": "stderr",
     "output_type": "stream",
     "text": [
      "C:\\ProgramData\\Anaconda3\\envs\\tf\\lib\\site-packages\\ipykernel_launcher.py:1: SettingWithCopyWarning: \n",
      "A value is trying to be set on a copy of a slice from a DataFrame.\n",
      "Try using .loc[row_indexer,col_indexer] = value instead\n",
      "\n",
      "See the caveats in the documentation: http://pandas.pydata.org/pandas-docs/stable/user_guide/indexing.html#returning-a-view-versus-a-copy\n",
      "  \"\"\"Entry point for launching an IPython kernel.\n"
     ]
    }
   ],
   "source": [
    "test['rating'] = 1"
   ]
  },
  {
   "cell_type": "code",
   "execution_count": 15,
   "metadata": {},
   "outputs": [],
   "source": [
    "train.to_csv('train.csv', header = None)\n",
    "test.to_csv('test.csv', header = None)"
   ]
  },
  {
   "cell_type": "code",
   "execution_count": 14,
   "metadata": {},
   "outputs": [
    {
     "name": "stdout",
     "output_type": "stream",
     "text": [
      "     user_id  movie_id  rating  timestamp                      title  \\\n",
      "24      3123      2407       1  969324381              Cocoon (1985)   \n",
      "138     4815      3181       1  972240802               Titus (1999)   \n",
      "93      2181      2020       1  979353437  Dangerous Liaisons (1988)   \n",
      "168     3483      2561       1  986327282          True Crime (1999)   \n",
      "0       3299       235       1  968035345             Ed Wood (1994)   \n",
      "\n",
      "             genres gender  age  occupation    zip  \n",
      "24    Comedy|Sci-Fi      M   25           2  90401  \n",
      "138           Drama      F   50          18  04849  \n",
      "93    Drama|Romance      M   25           0  45245  \n",
      "168  Crime|Thriller      F   45           7  30260  \n",
      "0      Comedy|Drama      F   25           4  19119  \n"
     ]
    }
   ],
   "source": [
    "print(test.head())"
   ]
  },
  {
   "cell_type": "code",
   "execution_count": null,
   "metadata": {},
   "outputs": [],
   "source": []
  }
 ],
 "metadata": {
  "kernelspec": {
   "display_name": "tensorflow",
   "language": "python",
   "name": "tensorflow"
  },
  "language_info": {
   "codemirror_mode": {
    "name": "ipython",
    "version": 3
   },
   "file_extension": ".py",
   "mimetype": "text/x-python",
   "name": "python",
   "nbconvert_exporter": "python",
   "pygments_lexer": "ipython3",
   "version": "3.7.6"
  }
 },
 "nbformat": 4,
 "nbformat_minor": 4
}
