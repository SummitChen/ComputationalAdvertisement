{
 "cells": [
  {
   "cell_type": "markdown",
   "metadata": {},
   "source": [
    "### ***1. CTR数据中的类别数据处理，编码方式有哪些，区别是什么?***"
   ]
  },
  {
   "cell_type": "markdown",
   "metadata": {},
   "source": [
    "对于 CTR 数据中的类别数据，比如用户所在的省份，城市；所使用的移动设备的型号，操作系统版本等。可采用的编码方法是通常有：\n",
    "1. LabelEncoding - 将不同的类别的按照不同的整型数字编码。\n",
    "2. OneHotEncoding - 用一个0和1组成的向量来表示来表示每一个类别，并确保在OneHot编码中体现类别的唯一性。"
   ]
  },
  {
   "cell_type": "markdown",
   "metadata": {},
   "source": [
    "### ***2. 对于时间类型数据，处理方法有哪些?***"
   ]
  },
  {
   "cell_type": "markdown",
   "metadata": {},
   "source": [
    "机器学习中对数据处理可以认为是广义的特征工程，它包括了如下几个部分：\n",
    "\n",
    "![feature_engineering](./images/Feature_engineering.png)\n",
    "\n",
    "***Figure1. Feature Engineering***\n",
    "\n",
    "其中从已有的数据特征中构造新的特征，是一项复杂的且技巧和策略要求非常高的任务。而构建出有效的特征往往是机器学习项目效果提升的关键。所以以下对时间类型数据的处理的讨论主要集中在时间特征构造方面。\n",
    "\n",
    "我们可以把时间类型数据按照是否是序列数据分为：时间数据和时间序列数据 （Figure 2）。\n",
    "\n",
    "- 对于时间数据的处理可以分为：对连续时间特征的处理，离散时间特征处理，以及结合时间维度的聚合特征。\n",
    "\n",
    "- 对时间序列特征的处理可以分为：时间序列聚合特征，时间序列历史特征，时间序列复合特征。\n",
    "\n",
    "![time_feature](./images/time_processing.png)\n",
    "\n",
    "***Figure2. Feature Engineering Time Data***"
   ]
  },
  {
   "cell_type": "markdown",
   "metadata": {},
   "source": [
    "### ***3. 你是如何理解CTR预估中的特征组合的，请举例说明? ***"
   ]
  },
  {
   "cell_type": "markdown",
   "metadata": {},
   "source": [
    "在CTR预估的应用中，有些特征可以独立表达一个意思，两个或者更多的属性组合起来又可以表达出额外的信息来。\n",
    "\n",
    "   - 所谓的两个特征组合，举例来说就是，比如有一个特征A和特征B，它们分别有两个值{A1, A2}和{B1, B2}。如果A与B，交叉起来就可以得到一组特征值即{(A1, B1), (A1, B2), (A2, B1), (A2, B2)}，每个组合特征代表了特征A与B各自信息的协同作用。\n",
    "\n",
    "   - 一个典型的例子就是经度和维度信息。一个相同的经度信息代表了地球上同属于这个经度上的许多地区，其中一个潜在的物理含义就是这些地区同属于一个时区；而同一个纬度信息也对应了地球上的很多地方。当经度和维度信息组合在一起，就可以唯一确定地球上的某一个地区；这个地区可能在地理上，气候上，政治，经济或文化上具有很重要的意义。所以特征组合也就把这样的潜在重要特征挖掘出来了。"
   ]
  },
  {
   "cell_type": "markdown",
   "metadata": {},
   "source": [
    "### ***4. DCN和xDeepFM都可以进行自动特征组合，有何区别?***"
   ]
  },
  {
   "cell_type": "markdown",
   "metadata": {},
   "source": [
    "DCN(Deep Cross Network) 是由两路并行结构完成特征组合的，一路是Cross Network 网络，另外一路是Deep Network。而xDeepFM (eXtreme Deep Factorization Machine) 是一个三路并行结构，一路是一阶线性组合，剩下两路是CIN(Compressed Intersecion Network) 和 Deep Network。DCN模型和xDeepFM在高维特征交叉上的区别主要体现在Cross Network 和 CIN 的不同。\n",
    "\n",
    "其中Cross Network网络，是一个串行结构，由低阶特征交叉到高阶特征交叉逐层叠加；并将交叉结果通过最后一层输出到下一个模块。由于在Cross Network的每一层都会与最初的特征做交叉操作，所以在最后一层中保留了各阶特征的交叉信息。\n",
    "\n",
    "![CrossNetwork](./images/Cross_network.png)\n",
    "\n",
    "***Figure3. Cross Network ***\n",
    "\n",
    "而CIN是一个并行+串行的结构；所谓串行就是每一层的特征交叉，都是由上一层的计算结果与初始特征交叉计算得到的；而并行指的的是，每一层的特征会并行的通过 Sum pooling 并且拼接在一起作为下一个模块的输入。\n",
    "\n",
    "![CIN](./images/CIN.png)\n",
    "\n",
    "***Figure4. Compressed Interaction Network ***\n",
    "\n",
    "此外，Cross Network 在显示构造高阶特征的时候是以bit-wise的方式，即在Embedding层之后，Cross Network 的输入向量是将所有 Feature 的Embedding 的向量直接拼接起来作为输入而没有Field Vector的概念。\n",
    "\n",
    "而在CIN中，特征的输入是按照特征的Field和Dimension两个维度分开组织的；并且在特征交叉的过程中，特征与特征之间是通过哈达玛积(Hadamard Product)以Field为单位进行交叉组合计算的。\n",
    "\n",
    "![FeatureCrossingCIN](./images/Field_computing_CIN.png)\n",
    "\n",
    "***Figure5. Feature Crossing CIN *** \n",
    "\n"
   ]
  },
  {
   "cell_type": "markdown",
   "metadata": {},
   "source": [
    "### ***5. 今天讲解的特征组合只是特征工程中的一部分，你理解的特征工程都包括哪些，不防做个思维导图?***"
   ]
  },
  {
   "cell_type": "markdown",
   "metadata": {},
   "source": [
    "特征工程主要包括：数据探索，数据清洗，特征预处理，特征选择，特征构造和特征提取六个部分。\n",
    "\n",
    "![Feature_Engineering](./images/Feature_engineering.png)\n",
    "\n",
    "***Figure6. 特征工程 *** \n",
    "\n",
    "![Feature_exploration](./images/Data_exploration.png)\n",
    "\n",
    "***Figure7. 数据探索 ***\n",
    "\n",
    "![Feature_clean](./images/Data_clean.png)\n",
    "\n",
    "***Figure8. 数据清洗 ***\n",
    "\n",
    "![Feature_preprocessing](./images/Feature_preprocessing.png)\n",
    "\n",
    "***Figure9. 特征预处理 ***\n",
    "\n",
    "![Feature_selection](./images/Feature_selection.png)\n",
    "\n",
    "***Figure10. 特征选择 ***\n",
    "\n",
    "![Feature_construction](./images/Feature_construction.png)\n",
    "\n",
    "***Figure11. 特征构造 ***\n",
    "\n",
    "![Feature_extraction](./images/Feature_extraction.png)\n",
    "\n",
    "***Figure12. 特征提取 ***\n",
    "\n",
    "![Feature_clustering](./images/Feature_aggregation.png)\n",
    "\n",
    "***Figure13. 聚合特征构造 ***\n",
    "\n",
    "![Feature_transform](./images/Feature_transform.png)\n",
    "\n",
    "***Figure14. 简单特征转换构造 ***\n",
    "\n",
    "![Feature_clustering](./images/Feature_clustering.png)\n",
    "\n",
    "***Figure15. 聚类特征构造 ***\n",
    "\n",
    "![Time_feature](./images/Time_feature.png)\n",
    "\n",
    "***Figure16. 时间特征构造 ***\n",
    "\n",
    "![Time_series_feature](./images/Time_series_feature.png)\n",
    "\n",
    "***Figure17. 时间序列特征构造 ***\n",
    "\n",
    "![Spatial_feature](./images/Spatial_feature.png)\n",
    "\n",
    "***Figure18. 空间特征构造 ***\n",
    "\n",
    "![Text_feature](./images/Text_feature.png)\n",
    "\n",
    "***Figure19. 文本特征构造 ***\n"
   ]
  },
  {
   "cell_type": "code",
   "execution_count": null,
   "metadata": {},
   "outputs": [],
   "source": []
  }
 ],
 "metadata": {
  "kernelspec": {
   "display_name": "Python 3.7.6 64-bit ('tf': conda)",
   "language": "python",
   "name": "python37664bittfconda946bd5c5de684c5d81ef2ce52df4450d"
  },
  "language_info": {
   "codemirror_mode": {
    "name": "ipython",
    "version": 3
   },
   "file_extension": ".py",
   "mimetype": "text/x-python",
   "name": "python",
   "nbconvert_exporter": "python",
   "pygments_lexer": "ipython3",
   "version": "3.7.6"
  }
 },
 "nbformat": 4,
 "nbformat_minor": 2
}
