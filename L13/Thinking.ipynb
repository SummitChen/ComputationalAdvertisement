{
 "cells": [
  {
   "cell_type": "markdown",
   "metadata": {},
   "source": [
    "### ***1. 什么是Graph Embedding，都有哪些算法模型? ***"
   ]
  },
  {
   "cell_type": "markdown",
   "metadata": {},
   "source": [
    "Graph Embedding 是一种Embedding 降维技术，可以有效的挖掘图网络中的节点特征表示。Graph Embedding的作用是将图中的点用低维的向量表示，并且这些向量要能反应原先网络的特性。\n",
    "\n",
    "主要模型有：\n",
    "- 图因式分解机 (factorization methods)\n",
    "- 随机游走（random walk techniques）\n",
    "- 深度学习 (deep learning)"
   ]
  },
  {
   "cell_type": "markdown",
   "metadata": {},
   "source": [
    "### ***2. 如何使用Graph Embedding在推荐系统，比如NetFlix 电影推荐，请说明简要的思路? ***"
   ]
  },
  {
   "cell_type": "markdown",
   "metadata": {},
   "source": [
    "在推荐系统应用中，可通过以下方法将用户与物品（比如NetFlix电影）的交互信息转换为图结构：\n",
    "\n",
    "1. 将每个电影与用户作为图中的节点；\n",
    "2. 将用户与电影的交互关系作为链接节点的边；\n",
    "3. 每条边的权重可通过用户对电影的点击，收藏，评分，以及观看时长等多个指标综合评定计算得出。\n",
    "\n",
    "然后通过，RandomWalk, Node2Vec, 或者 GCN 等方法学习得到图的表示，获得图的Embedding。\n",
    "\n",
    "最后将Embedding之后的图上的节点，作为输入来训练交通流量预测模型，比如全连接神经网络。"
   ]
  },
  {
   "cell_type": "markdown",
   "metadata": {},
   "source": [
    "### ***3. 在交通流量预测中，如何使用Graph Embedding，请说明简要的思路? ***"
   ]
  },
  {
   "cell_type": "markdown",
   "metadata": {},
   "source": [
    "在交通流量预测应用中，可通过以下方法将交通网络中的元素构成图。\n",
    "\n",
    "1. 将交通网络中的道路交汇点作为图的节点；\n",
    "2. 将连通道路交汇点的道路作为图的边；\n",
    "3. 可通过道路的物理距离，交汇点之间的出入流量交互等信息构成边的权重。\n",
    "\n",
    "然后通过，RandomWalk, Node2Vec, 或者 GCN 等方法学习得到图的表示，获得图的Embedding。\n",
    "\n",
    "最后将Embedding之后的图上的节点，作为输入来训练交通流量预测模型，比如全连接神经网络。由于交通流量是一个随时间变化的指标，所以还可以在训练基于全连接神经网络的预测模型之前，接一个RNN，LSTM 或 GRU 网络来学习交通流量随着时间变化的信息，作为预测的输入特征。"
   ]
  },
  {
   "cell_type": "markdown",
   "metadata": {},
   "source": [
    "### ***4. 在文本分类中，如何使用Graph Embedding，请说明简要的思路?***"
   ]
  },
  {
   "cell_type": "markdown",
   "metadata": {},
   "source": [
    "在文本分类应用中，可通过以下方法将文本中的元素构成图。\n",
    "\n",
    "1. 将文本划分为，章节和单词，每个章节和单词独立构成图的节点；\n",
    "2. 将章节-单词关系，以及单词与单词的关系作为图的边；\n",
    "3. 对于边是章节-单词来说，可以用TF-IDF算法，来计算单词在章节中的重要新程度作为边的权重；而对于单词与单词的边，可以采用Word2Vec算法，根据单词与单词的共现关系，来表示单词与单词之间的边权重。\n",
    "\n",
    "然后通过，RandomWalk, Node2Vec, 或者 GCN 等方法学习得到图的表示，获得图的Embedding。\n",
    "\n",
    "最后将Embedding之后的图上的节点，作为输入来训练文本分类模型，比如全连接神经网络"
   ]
  },
  {
   "cell_type": "code",
   "execution_count": null,
   "metadata": {},
   "outputs": [],
   "source": []
  }
 ],
 "metadata": {
  "kernelspec": {
   "display_name": "Python 3.7.6 64-bit ('tf': conda)",
   "language": "python",
   "name": "python37664bittfconda946bd5c5de684c5d81ef2ce52df4450d"
  },
  "language_info": {
   "codemirror_mode": {
    "name": "ipython",
    "version": 3
   },
   "file_extension": ".py",
   "mimetype": "text/x-python",
   "name": "python",
   "nbconvert_exporter": "python",
   "pygments_lexer": "ipython3",
   "version": "3.7.6"
  }
 },
 "nbformat": 4,
 "nbformat_minor": 2
}
