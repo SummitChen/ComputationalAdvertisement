{
 "cells": [
  {
   "cell_type": "markdown",
   "metadata": {},
   "source": [
    "### *1.什么是近似最近邻查找，常用的方法有哪些? *"
   ]
  },
  {
   "cell_type": "markdown",
   "metadata": {},
   "source": [
    "近似最邻近查找ANN，是在牺牲可接受范围内精度的情况下提高检索效率，通常ANN会采用层级过滤或者Hash函数分桶的方法，将相似的实例近似的分到同一个数量级更小的小桶里。LSH 局部敏感哈希是ANN的一类典型方法。"
   ]
  },
  {
   "cell_type": "markdown",
   "metadata": {},
   "source": [
    "### *2. 为什么两个集合的minhash值相同的概率等于这两个集合的Jaccard相似度? *"
   ]
  },
  {
   "cell_type": "markdown",
   "metadata": {},
   "source": []
  },
  {
   "cell_type": "markdown",
   "metadata": {},
   "source": [
    "### *3. SimHash在计算文档相似度的作用是怎样的？*"
   ]
  },
  {
   "cell_type": "markdown",
   "metadata": {},
   "source": [
    "SimHash可计算出每篇文档的固定长度的二进制形式的指纹。在计算两篇文档相似度的时候，只需要计算两篇文档指纹的海明（Hamming）距离就可以得到它们的相似度，即海明距离越小，相似度越高。SimHash算法计算文档指纹的步骤如下：\n",
    "1. 通过分词工具将文章进行分词。\n",
    "2. 给每个分词分配权重，可通过词频算法或者TF-IDF算法。\n",
    "3. 通过相同的Hash函数将每个词，编码为固定位数（比如64位）的二进制Hash值。\n",
    "4. 将二进制值逐位转化为一个维张量并且将值为0的位值转变为-1.\n",
    "5. 将得到的张量与分词的权重相乘。\n",
    "6. 将得到的相乘后的张量，相同位置上的值按位相加。并用符号函数对最终的张量进行操作，即置为 1 if $\\sum > 0$，否则为 0，然后将张量值转换回二进制值。"
   ]
  },
  {
   "cell_type": "markdown",
   "metadata": {},
   "source": [
    "### *4. 为什么YouTube采用期望观看时间作为评估指标? *"
   ]
  },
  {
   "cell_type": "markdown",
   "metadata": {},
   "source": [
    "如果YouTube想要评估某用户是否对感兴趣，可利用的评价指标主要有对视频的点击，like 和 unlike, 以及观看时长。因为大部分用户在观看视频的时候，并不会做like 和 unlike 操作，所以like 和 unlike数据会非常稀疏，因此不便于作为主要评价指标。而由于视频内容的特殊性，即主要内容以及给观众带来的体验，是需要在整个视频的播放过程中交付给用户的。也就是说用户很难通过视频的题目和描述判断某一个视频是否是自己真正感兴趣的视频。所以把用户的点击行为作为是否感兴趣的评价指标是不准确，引入了很大的不确定性和噪音。相比之下，采用观看时间作为主要的评估指标是最为合理的，同时也可以得到心理学上以及人类社会常识上的直观解释，“喜欢就多看一会儿”。此外，商业上非常重要的一点，最大限度的获得用户的关注和时间也是YouTube获得商业成功的关键和保证。用最大化观看时间作为YouTube视频推荐系统优化的目标，也恰恰出于对整体商业目标的考虑。"
   ]
  },
  {
   "cell_type": "markdown",
   "metadata": {},
   "source": [
    "### *5. 为什么YouTube在排序阶段没有采用经典的LR（逻辑回归）当作输出层，而是采用了Weighted Logistic Regression？*"
   ]
  },
  {
   "cell_type": "markdown",
   "metadata": {},
   "source": [
    "因为YouTube视频推荐系统所选取的指标是观看时长，而经典LR（逻辑回归）的输出0，1两种标签，不能够反映出不同长度的观看时间长度。而带权重的逻辑回归（Weighted Logistic Regression）给每一次点击观看行为赋予相应的权重来相对地反映用户对某视频的观看时长。"
   ]
  },
  {
   "cell_type": "markdown",
   "metadata": {},
   "source": []
  }
 ],
 "metadata": {
  "kernelspec": {
   "display_name": "Python 3.7.6 64-bit ('tf': conda)",
   "language": "python",
   "name": "python37664bittfconda946bd5c5de684c5d81ef2ce52df4450d"
  },
  "language_info": {
   "codemirror_mode": {
    "name": "ipython",
    "version": 3
   },
   "file_extension": ".py",
   "mimetype": "text/x-python",
   "name": "python",
   "nbconvert_exporter": "python",
   "pygments_lexer": "ipython3",
   "version": "3.7.6"
  }
 },
 "nbformat": 4,
 "nbformat_minor": 2
}
