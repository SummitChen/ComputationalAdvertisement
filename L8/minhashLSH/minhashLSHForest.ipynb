{
 "cells": [
  {
   "cell_type": "code",
   "execution_count": 1,
   "metadata": {},
   "outputs": [],
   "source": [
    "from datasketch import MinHash, MinHashLSH, MinHashLSHForest\n",
    "import jieba.posseg as pseg\n",
    "import re"
   ]
  },
  {
   "cell_type": "code",
   "execution_count": 7,
   "metadata": {},
   "outputs": [],
   "source": [
    "# words segmentation\n",
    "def word_seg(item_text):\n",
    "    item_str = ''\n",
    "    item = (pseg.cut(item_text))\n",
    "    for i in list(item):\n",
    "        if i.word not in list(stop):\n",
    "            item_str += i.word\n",
    "            item_str += ' '\n",
    "    return item_str"
   ]
  },
  {
   "cell_type": "code",
   "execution_count": 12,
   "metadata": {},
   "outputs": [],
   "source": [
    "# create minHash\n",
    "def get_minHash(item_str):\n",
    "    temp = MinHash()\n",
    "    for d in item_str:\n",
    "        temp.update(d.encode('utf-8'))\n",
    "    return temp"
   ]
  },
  {
   "cell_type": "code",
   "execution_count": 22,
   "metadata": {},
   "outputs": [],
   "source": [
    "# query top k\n",
    "def query(key, top=3):\n",
    "    item_str = word_seg(key)\n",
    "    minhash_key = get_minHash(item_str)\n",
    "    result = forest.query(minhash_key, top)\n",
    "    for i in range(len(result)):\n",
    "        print(result[i], minhash_key.jaccard(minhash_list[result[i]]), documents[result[i]].replace(' ', ''))\n",
    "    print('Top {0} neibours {1}'.format(top, result))\n",
    "    return result"
   ]
  },
  {
   "cell_type": "code",
   "execution_count": 24,
   "metadata": {},
   "outputs": [],
   "source": [
    "# read file\n",
    "with open('./weibos.txt', 'r', encoding='UTF-8') as f:\n",
    "    text = f.read()\n",
    "    sentences = re.split('[。！?]', text.replace('\\n', ''))\n",
    "    if sentences[len(sentences)-1] == '':\n",
    "        sentences.pop()"
   ]
  },
  {
   "cell_type": "code",
   "execution_count": 30,
   "metadata": {},
   "outputs": [],
   "source": [
    "# initialize stop words\n",
    "stop = [line.strip() for line in open('./stopword.txt').readlines()]"
   ]
  },
  {
   "cell_type": "code",
   "execution_count": 31,
   "metadata": {},
   "outputs": [],
   "source": [
    "# segement text\n",
    "documents = []\n",
    "for item_text in sentences:\n",
    "    item_str = word_seg(item_text)\n",
    "    documents.append(item_str)"
   ]
  },
  {
   "cell_type": "code",
   "execution_count": 32,
   "metadata": {},
   "outputs": [],
   "source": [
    "# create LSH Forest and minhash objects\n",
    "minhash_list = []\n",
    "forest = MinHashLSHForest()\n",
    "for i in range(len(documents)):\n",
    "    temp = get_minHash(documents[i])\n",
    "    minhash_list.append(temp)\n",
    "    forest.add(i, temp)\n",
    "forest.index()"
   ]
  },
  {
   "cell_type": "code",
   "execution_count": 33,
   "metadata": {},
   "outputs": [
    {
     "name": "stdout",
     "output_type": "stream",
     "text": [
      "26 0.34375 ”​因为中国队给斯科拉里开足了薪水，给足了他需要的条件\n",
      "21 0.2421875 中国援助了我们那么多粮食和美金，如果他们不再援助我们国家，你狗日些要吃土去\n",
      "13 0.171875 当然，老头也是世界杯冠军教头，万一折在中国这里也没啥丢人的，毕竟里皮也折了嘛\n",
      "Top 3 neibours [26, 21, 13]\n"
     ]
    },
    {
     "data": {
      "text/plain": [
       "[26, 21, 13]"
      ]
     },
     "execution_count": 33,
     "metadata": {},
     "output_type": "execute_result"
    }
   ],
   "source": [
    "key = '因为获得中国国家援助，叙利亚足球教练谴责队员赢了中国队，'\n",
    "query(key, 3)"
   ]
  },
  {
   "cell_type": "code",
   "execution_count": null,
   "metadata": {},
   "outputs": [],
   "source": []
  }
 ],
 "metadata": {
  "kernelspec": {
   "display_name": "Python 3.7.6 64-bit ('tf': conda)",
   "language": "python",
   "name": "python37664bittfconda946bd5c5de684c5d81ef2ce52df4450d"
  },
  "language_info": {
   "codemirror_mode": {
    "name": "ipython",
    "version": 3
   },
   "file_extension": ".py",
   "mimetype": "text/x-python",
   "name": "python",
   "nbconvert_exporter": "python",
   "pygments_lexer": "ipython3",
   "version": "3.7.6"
  }
 },
 "nbformat": 4,
 "nbformat_minor": 2
}
