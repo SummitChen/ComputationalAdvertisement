{
 "cells": [
  {
   "cell_type": "code",
   "execution_count": 1,
   "metadata": {},
   "outputs": [],
   "source": [
    "c_text = '北京时间3月18日，布鲁克林篮网队今天宣布球队里有4名球员的新冠病毒检测结果呈阳性。篮网队在声明里没有透露这4名球员的名字，但是指出其中1名球员出现了新冠病毒的症状，另外3名球员无症状。'"
   ]
  },
  {
   "cell_type": "code",
   "execution_count": 4,
   "metadata": {},
   "outputs": [],
   "source": [
    "words_list = list(c_text.strip())"
   ]
  },
  {
   "cell_type": "code",
   "execution_count": 6,
   "metadata": {},
   "outputs": [
    {
     "data": {
      "text/plain": [
       "'北 京 时 间 3 月 1 8 日 ， 布 鲁 克 林 篮 网 队 今 天 宣 布 球 队 里 有 4 名 球 员 的 新 冠 病 毒 检 测 结 果 呈 阳 性 。 篮 网 队 在 声 明 里 没 有 透 露 这 4 名 球 员 的 名 字 ， 但 是 指 出 其 中 1 名 球 员 出 现 了 新 冠 病 毒 的 症 状 ， 另 外 3 名 球 员 无 症 状 。'"
      ]
     },
     "metadata": {},
     "output_type": "display_data"
    }
   ],
   "source": [
    "display(' '.join(words_list))"
   ]
  },
  {
   "cell_type": "code",
   "execution_count": null,
   "metadata": {},
   "outputs": [],
   "source": []
  }
 ],
 "metadata": {
  "kernelspec": {
   "display_name": "pytorch",
   "language": "python",
   "name": "pytorch"
  },
  "language_info": {
   "codemirror_mode": {
    "name": "ipython",
    "version": 3
   },
   "file_extension": ".py",
   "mimetype": "text/x-python",
   "name": "python",
   "nbconvert_exporter": "python",
   "pygments_lexer": "ipython3",
   "version": "3.7.6"
  }
 },
 "nbformat": 4,
 "nbformat_minor": 2
}
