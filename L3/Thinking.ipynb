{
 "cells": [
  {
   "cell_type": "markdown",
   "metadata": {},
   "source": [
    "### ***1.如何使用用户标签来指导业务（如何提升业务）？***"
   ]
  },
  {
   "cell_type": "markdown",
   "metadata": {},
   "source": [
    "用户的生命周期通常分为三个阶段：获客，粘客 和 留客。根据用户标签数据，对用户未来的行为进行预测，可分别从这三个阶段来提升业务效果。\n",
    "- 获客：通过更加精准的营销获取客户。\n",
    "- 粘客：个性化推荐，搜索排序，场景运营等。\n",
    "- 留客：流失率预测，分析关键节点降低流失率。"
   ]
  },
  {
   "cell_type": "markdown",
   "metadata": {},
   "source": [
    "### *** 2. 如果给你一堆用户数据，没有打标签。你该如何处理（如何打标签）?***"
   ]
  },
  {
   "cell_type": "markdown",
   "metadata": {},
   "source": [
    "对用户的数据进行分析，进而给用户打标签可以从以下四个维度来考虑：\n",
    "- 用户属性标签或人口统计（demographic）标签： 性别，年龄，地域，收入，学历，职业等。\n",
    "- 消费标签：消费习惯，购买意向，是否对促销敏感等。\n",
    "- 行为标签，即反映用户与物品关系的行为：时间段，频次，时长，收藏，点击，喜欢，评分等。根据是否能过明确表示用户对物品喜好，可将用户的行为分为显性行为和隐性行为。其中，显性行为是用户明确表示对物品喜好的行为，包括将物品标注为喜欢/不喜欢，以及评分；而隐性行为表示不能明确反映用户喜好的行为，比如对物品浏览/观看的时间段，频次，时长以及收藏和点击的行为。\n",
    "- 内容标签：对用户平时浏览的内容进行分析而打上的标签，比如对体育，游戏，八卦。\n",
    "\n",
    "典型的打标签方式有专家生产（PGC），比如对用户平时浏览的内容进行分类；以及用户生产（UGC），比如用户对物品的评分。\n",
    "标签是对高维事物的抽象，通常可通过聚类算法来自动化地生产标签。"
   ]
  },
  {
   "cell_type": "markdown",
   "metadata": {},
   "source": [
    "### *** 3. 准确率和精确率有何不同（评估指标）?***"
   ]
  },
  {
   "cell_type": "markdown",
   "metadata": {},
   "source": [
    "对准确率和精确率的定义是建立在混淆矩阵（Confusion Matrix）的基础之上的。混淆矩阵的定义如下：\n",
    "\n",
    "![](images/ConfusionMatrix.png)\n",
    "\n",
    "<p align=\"center\">***Figure1*** - 混淆矩阵</p>\n",
    "\n",
    "准确率表示的是所有预测真实例个数与所有实例个数之比。公式表示为：\n",
    "$$accuracy = \\frac{TP + TN}{TP + FP + TN + FN}$$\n",
    "\n",
    "精确率表示的是真正例的个数与所有正例个数之比。公式表示为：\n",
    "$$precision = \\frac{TP}{TP + FP}$$"
   ]
  },
  {
   "cell_type": "markdown",
   "metadata": {},
   "source": [
    "### *** 4. 如果你使用大众点评，想要给某个餐厅打标签。这时系统可以自动提示一些标签，你会如何设计（标签推荐）?***"
   ]
  },
  {
   "cell_type": "markdown",
   "metadata": {},
   "source": [
    "在此场景中，标签推荐的策略可以有两种，或者是这两种策略的混合策略。他们分别是：\n",
    "1. 基于用户的标签推荐，即将与此用户相似的用户给这家餐厅打的标签推荐给他。\n",
    "2. 基于餐厅的标签推荐，即将与此餐厅相似的餐厅收到的来自此用户打的标签推荐给他。"
   ]
  },
  {
   "cell_type": "markdown",
   "metadata": {},
   "source": [
    "### *** 5. 我们今天使用了10种方式来解MNIST，这些方法有何不同？你还有其他方法来解决MNIST识别问题么（分类方法）? ***"
   ]
  },
  {
   "cell_type": "markdown",
   "metadata": {},
   "source": []
  }
 ],
 "metadata": {
  "kernelspec": {
   "display_name": "Python 3.7.6 64-bit ('tf': conda)",
   "language": "python",
   "name": "python37664bittfconda946bd5c5de684c5d81ef2ce52df4450d"
  },
  "language_info": {
   "codemirror_mode": {
    "name": "ipython",
    "version": 3
   },
   "file_extension": ".py",
   "mimetype": "text/x-python",
   "name": "python",
   "nbconvert_exporter": "python",
   "pygments_lexer": "ipython3",
   "version": "3.7.6"
  }
 },
 "nbformat": 4,
 "nbformat_minor": 2
}
